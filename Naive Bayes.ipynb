{
 "cells": [
  {
   "cell_type": "markdown",
   "metadata": {},
   "source": [
    "# Import"
   ]
  },
  {
   "cell_type": "code",
   "execution_count": 4,
   "metadata": {},
   "outputs": [],
   "source": [
    "from sklearn.naive_bayes import MultinomialNB\n",
    "import pandas as pd\n",
    "import numpy as np\n",
    "from sklearn.metrics import confusion_matrix"
   ]
  },
  {
   "cell_type": "markdown",
   "metadata": {},
   "source": [
    "# Data"
   ]
  },
  {
   "cell_type": "code",
   "execution_count": 5,
   "metadata": {
    "scrolled": true
   },
   "outputs": [
    {
     "name": "stdout",
     "output_type": "stream",
     "text": [
      "  (0, 3582)\t1\n",
      "  (0, 39)\t1\n",
      "  (0, 839)\t1\n",
      "  (0, 76)\t1\n",
      "  (0, 2967)\t1\n",
      "  (0, 122)\t1\n",
      "  (0, 2241)\t1\n",
      "  (0, 2736)\t1\n",
      "  (0, 94)\t1\n",
      "  (0, 1001)\t1\n",
      "  (0, 145)\t1\n",
      "  (0, 16731)\t1\n",
      "  (0, 42)\t1\n",
      "  (0, 540)\t1\n",
      "  (0, 45)\t1\n",
      "  (0, 24)\t1\n",
      "  (0, 1223)\t1\n",
      "  (0, 553)\t1\n",
      "  (0, 18)\t1\n",
      "  (0, 842)\t1\n",
      "  (0, 24)\t1\n",
      "  (0, 325)\t1\n",
      "  (0, 582)\t1\n",
      "  (0, 32)\t1\n",
      "  (0, 223)\t1\n",
      "  :\t:\n",
      "  (729, 611)\t1\n",
      "  (729, 611)\t1\n",
      "  (729, 611)\t1\n",
      "  (729, 611)\t1\n",
      "  (729, 611)\t1\n",
      "  (729, 611)\t1\n",
      "  (729, 611)\t1\n",
      "  (729, 611)\t1\n",
      "  (729, 611)\t1\n",
      "  (729, 611)\t1\n",
      "  (729, 611)\t1\n",
      "  (729, 611)\t1\n",
      "  (729, 611)\t1\n",
      "  (729, 611)\t1\n",
      "  (729, 611)\t1\n",
      "  (729, 611)\t1\n",
      "  (729, 611)\t1\n",
      "  (729, 611)\t1\n",
      "  (729, 611)\t1\n",
      "  (729, 611)\t1\n",
      "  (729, 611)\t1\n",
      "  (729, 611)\t1\n",
      "  (729, 611)\t1\n",
      "  (729, 611)\t1\n",
      "  (729, 611)\t1   (0, 196)\t1\n",
      "  (0, 11)\t1\n",
      "  (0, 848)\t1\n",
      "  (0, 48)\t1\n",
      "  (0, 17748)\t1\n",
      "  (0, 1713)\t1\n",
      "  (0, 9827)\t1\n",
      "  (0, 665)\t1\n",
      "  (0, 661)\t1\n",
      "  (0, 11)\t1\n",
      "  (0, 663)\t1\n",
      "  (0, 4)\t1\n",
      "  (0, 1838)\t1\n",
      "  (0, 669)\t1\n",
      "  (0, 1713)\t1\n",
      "  (0, 718)\t1\n",
      "  (0, 5805)\t1\n",
      "  (0, 55)\t1\n",
      "  (0, 1540)\t1\n",
      "  (0, 122)\t1\n",
      "  (0, 2272)\t1\n",
      "  (0, 748)\t1\n",
      "  (0, 9016)\t1\n",
      "  (0, 881)\t1\n",
      "  (0, 1423)\t1\n",
      "  :\t:\n",
      "  (359, 120)\t1\n",
      "  (359, 2991)\t1\n",
      "  (359, 94)\t1\n",
      "  (359, 864)\t1\n",
      "  (359, 182)\t1\n",
      "  (359, 1362)\t1\n",
      "  (359, 155)\t1\n",
      "  (359, 4)\t1\n",
      "  (359, 32)\t1\n",
      "  (359, 2173)\t1\n",
      "  (359, 2325)\t1\n",
      "  (359, 16160)\t1\n",
      "  (359, 189)\t1\n",
      "  (359, 54)\t1\n",
      "  (359, 7)\t1\n",
      "  (359, 1180)\t1\n",
      "  (359, 7)\t1\n",
      "  (359, 1045)\t1\n",
      "  (359, 7)\t1\n",
      "  (359, 1281)\t1\n",
      "  (359, 16161)\t1\n",
      "  (359, 16162)\t1\n",
      "  (359, 24)\t1\n",
      "  (359, 5594)\t1\n",
      "  (359, 16163)\t1 ['legit', 'legit', 'legit', 'legit', 'spam', 'spam', 'legit', 'legit', 'legit', 'spam', 'spam', 'legit', 'spam', 'legit', 'legit', 'spam', 'legit', 'spam', 'spam', 'spam', 'spam', 'legit', 'legit', 'legit', 'spam', 'legit', 'spam', 'legit', 'legit', 'legit', 'spam', 'legit', 'spam', 'legit', 'legit', 'spam', 'legit', 'spam', 'spam', 'legit', 'legit', 'spam', 'legit', 'spam', 'legit', 'legit', 'legit', 'spam', 'legit', 'spam', 'legit', 'legit', 'legit', 'spam', 'legit', 'legit', 'legit', 'legit', 'legit', 'spam', 'legit', 'spam', 'legit', 'legit', 'legit', 'legit', 'legit', 'spam', 'legit', 'spam', 'spam', 'spam', 'legit', 'legit', 'legit', 'spam', 'spam', 'legit', 'legit', 'spam', 'legit', 'legit', 'legit', 'spam', 'spam', 'spam', 'legit', 'spam', 'spam', 'legit', 'legit', 'spam', 'spam', 'spam', 'legit', 'spam', 'legit', 'spam', 'spam', 'spam', 'legit', 'spam', 'legit', 'legit', 'spam', 'spam', 'spam', 'spam', 'spam', 'legit', 'spam', 'legit', 'legit', 'spam', 'spam', 'spam', 'legit', 'legit', 'spam', 'spam', 'legit', 'legit', 'legit', 'legit', 'legit', 'spam', 'spam', 'spam', 'legit', 'legit', 'legit', 'spam', 'legit', 'legit', 'legit', 'spam', 'legit', 'spam', 'legit', 'spam', 'legit', 'spam', 'spam', 'legit', 'spam', 'legit', 'spam', 'legit', 'spam', 'legit', 'legit', 'legit', 'legit', 'legit', 'legit', 'spam', 'legit', 'legit', 'legit', 'spam', 'spam', 'spam', 'legit', 'legit', 'legit', 'spam', 'legit', 'legit', 'legit', 'spam', 'legit', 'legit', 'legit', 'legit', 'legit', 'spam', 'spam', 'legit', 'spam', 'spam', 'spam', 'spam', 'spam', 'spam', 'legit', 'legit', 'legit', 'spam', 'spam', 'spam', 'legit', 'spam', 'spam', 'spam', 'legit', 'legit', 'legit', 'spam', 'legit', 'spam', 'legit', 'legit', 'legit', 'spam', 'spam', 'legit', 'legit', 'legit', 'legit', 'spam', 'legit', 'spam', 'legit', 'legit', 'legit', 'legit', 'legit', 'legit', 'spam', 'spam', 'legit', 'legit', 'spam', 'legit', 'spam', 'legit', 'legit', 'spam', 'legit', 'legit', 'legit', 'legit', 'spam', 'legit', 'legit', 'spam', 'legit', 'spam', 'spam', 'spam', 'spam', 'legit', 'legit', 'spam', 'legit', 'spam', 'spam', 'spam', 'legit', 'legit', 'legit', 'legit', 'legit', 'spam', 'spam', 'legit', 'spam', 'legit', 'legit', 'spam', 'legit', 'legit', 'legit', 'spam', 'spam', 'legit', 'spam', 'spam', 'legit', 'spam', 'spam', 'spam', 'spam', 'legit', 'spam', 'spam', 'spam', 'legit', 'legit', 'legit', 'legit', 'legit', 'legit', 'legit', 'spam', 'spam', 'legit', 'legit', 'spam', 'legit', 'spam', 'spam', 'legit', 'legit', 'legit', 'legit', 'legit', 'spam', 'spam', 'legit', 'spam', 'spam', 'spam', 'spam', 'spam', 'spam', 'legit', 'spam', 'spam', 'legit', 'legit', 'legit', 'legit', 'legit', 'legit', 'spam', 'spam', 'legit', 'legit', 'legit', 'spam', 'legit', 'legit', 'legit', 'spam', 'legit', 'spam', 'spam', 'spam', 'spam', 'legit', 'spam', 'spam', 'spam', 'spam', 'spam', 'spam', 'spam', 'spam', 'spam', 'legit', 'legit', 'legit', 'spam', 'spam', 'spam', 'legit', 'spam', 'legit', 'spam', 'legit', 'legit', 'legit', 'legit', 'legit', 'legit', 'spam', 'spam', 'spam', 'spam', 'spam', 'legit', 'spam', 'legit', 'spam', 'legit', 'spam', 'legit', 'legit', 'legit', 'spam', 'legit', 'spam', 'legit', 'legit', 'spam', 'legit', 'legit', 'legit', 'legit', 'legit', 'legit', 'spam', 'legit', 'spam', 'spam', 'legit', 'legit', 'legit', 'legit', 'legit', 'legit', 'legit', 'spam', 'legit', 'spam', 'spam', 'legit', 'legit', 'spam', 'spam', 'legit', 'spam', 'legit', 'spam', 'spam', 'legit', 'spam', 'legit', 'spam', 'legit', 'spam', 'spam', 'spam', 'legit', 'spam', 'legit', 'legit', 'legit', 'legit', 'legit', 'legit', 'legit', 'spam', 'spam', 'spam', 'spam', 'spam', 'legit', 'spam', 'legit', 'legit', 'spam', 'legit', 'spam', 'spam', 'spam', 'spam', 'legit', 'legit', 'legit', 'legit', 'legit', 'legit', 'legit', 'spam', 'legit', 'legit', 'spam', 'spam', 'spam', 'spam', 'legit', 'legit', 'legit', 'legit', 'spam', 'legit', 'legit', 'legit', 'legit', 'spam', 'legit', 'spam', 'legit', 'spam', 'spam', 'legit', 'legit', 'legit', 'legit', 'spam', 'spam', 'legit', 'spam', 'spam', 'legit', 'legit', 'spam', 'legit', 'spam', 'spam', 'spam', 'legit', 'spam', 'spam', 'legit', 'legit', 'spam', 'spam', 'spam', 'legit', 'legit', 'legit', 'legit', 'legit', 'legit', 'spam', 'spam', 'legit', 'spam', 'legit', 'legit', 'spam', 'spam', 'legit', 'spam', 'spam', 'legit', 'spam', 'legit', 'spam', 'legit', 'legit', 'legit', 'spam', 'spam', 'spam', 'spam', 'spam', 'spam', 'legit', 'legit', 'legit', 'legit', 'spam', 'legit', 'spam', 'spam', 'spam', 'spam', 'spam', 'spam', 'legit', 'legit', 'legit', 'spam', 'spam', 'legit', 'legit', 'legit', 'legit', 'spam', 'legit', 'legit', 'spam', 'spam', 'spam', 'spam', 'legit', 'legit', 'spam', 'spam', 'spam', 'legit', 'legit', 'legit', 'legit', 'legit', 'legit', 'legit', 'legit', 'legit', 'spam', 'legit', 'spam', 'spam', 'legit', 'legit', 'legit', 'legit', 'spam', 'spam', 'spam', 'spam', 'spam', 'spam', 'legit', 'legit', 'legit', 'spam', 'legit', 'spam', 'legit', 'legit', 'legit', 'spam', 'spam', 'spam', 'spam', 'legit', 'legit', 'legit', 'spam', 'legit', 'legit', 'legit', 'spam', 'spam', 'legit', 'legit', 'spam', 'legit', 'spam', 'legit', 'spam', 'spam', 'legit', 'legit', 'legit', 'legit', 'legit', 'legit', 'legit', 'spam', 'legit', 'legit', 'legit', 'legit', 'spam', 'legit', 'legit', 'legit', 'legit', 'spam', 'legit', 'spam', 'spam', 'legit', 'spam', 'legit', 'spam', 'legit', 'spam', 'spam', 'legit', 'spam', 'spam', 'spam', 'legit', 'legit', 'legit', 'legit', 'legit', 'legit', 'legit', 'legit', 'legit', 'legit', 'spam', 'legit', 'legit', 'legit', 'spam', 'legit', 'spam', 'legit', 'spam', 'legit', 'legit', 'legit', 'legit', 'legit', 'legit', 'legit', 'legit', 'legit', 'legit', 'spam', 'legit', 'legit', 'spam', 'legit', 'spam', 'spam', 'legit', 'legit', 'legit', 'legit', 'legit', 'legit', 'spam', 'legit', 'legit', 'spam', 'legit', 'spam', 'spam', 'spam', 'legit', 'legit', 'legit', 'legit', 'spam', 'spam', 'legit', 'legit', 'spam', 'legit', 'legit', 'legit', 'legit', 'spam', 'spam', 'spam', 'spam', 'spam', 'legit', 'legit', 'legit', 'legit', 'legit', 'spam', 'spam', 'legit', 'spam', 'legit', 'legit', 'spam', 'spam', 'spam', 'legit', 'legit', 'spam', 'legit', 'spam', 'legit', 'legit', 'spam', 'spam'] ['spam', 'spam', 'spam', 'spam', 'legit', 'spam', 'legit', 'legit', 'legit', 'spam', 'spam', 'spam', 'spam', 'legit', 'spam', 'spam', 'spam', 'spam', 'spam', 'legit', 'spam', 'spam', 'spam', 'legit', 'legit', 'legit', 'legit', 'legit', 'legit', 'spam', 'legit', 'legit', 'spam', 'spam', 'legit', 'legit', 'spam', 'legit', 'spam', 'spam', 'spam', 'legit', 'spam', 'spam', 'legit', 'legit', 'legit', 'legit', 'spam', 'spam', 'spam', 'legit', 'spam', 'legit', 'legit', 'spam', 'legit', 'legit', 'spam', 'spam', 'legit', 'spam', 'spam', 'spam', 'legit', 'spam', 'spam', 'spam', 'legit', 'legit', 'legit', 'legit', 'legit', 'spam', 'spam', 'legit', 'spam', 'legit', 'legit', 'spam', 'spam', 'legit', 'legit', 'legit', 'spam', 'legit', 'legit', 'spam', 'spam', 'legit', 'legit', 'legit', 'spam', 'legit', 'legit', 'legit', 'legit', 'spam', 'spam', 'legit', 'legit', 'spam', 'legit', 'legit', 'legit', 'spam', 'legit', 'legit', 'spam', 'spam', 'spam', 'legit', 'legit', 'spam', 'legit', 'legit', 'legit', 'spam', 'legit', 'legit', 'spam', 'legit', 'legit', 'spam', 'legit', 'legit', 'spam', 'spam', 'spam', 'spam', 'spam', 'legit', 'legit', 'legit', 'legit', 'legit', 'legit', 'legit', 'legit', 'spam', 'legit', 'spam', 'spam', 'spam', 'legit', 'legit', 'spam', 'spam', 'legit', 'legit', 'spam', 'legit', 'spam', 'legit', 'spam', 'legit', 'legit', 'legit', 'spam', 'spam', 'legit', 'spam', 'legit', 'spam', 'spam', 'spam', 'legit', 'legit', 'legit', 'spam', 'legit', 'legit', 'spam', 'legit', 'spam', 'legit', 'legit', 'spam', 'spam', 'legit', 'spam', 'legit', 'legit', 'legit', 'spam', 'legit', 'legit', 'legit', 'spam', 'legit', 'spam', 'legit', 'legit', 'spam', 'legit', 'legit', 'legit', 'legit', 'legit', 'spam', 'spam', 'spam', 'legit', 'legit', 'spam', 'spam', 'legit', 'spam', 'legit', 'spam', 'spam', 'legit', 'spam', 'legit', 'legit', 'legit', 'spam', 'legit', 'spam', 'spam', 'legit', 'spam', 'legit', 'spam', 'legit', 'legit', 'legit', 'spam', 'legit', 'legit', 'legit', 'spam', 'legit', 'legit', 'legit', 'legit', 'spam', 'spam', 'spam', 'legit', 'legit', 'spam', 'spam', 'legit', 'legit', 'spam', 'legit', 'legit', 'spam', 'legit', 'legit', 'legit', 'legit', 'legit', 'legit', 'legit', 'spam', 'spam', 'spam', 'spam', 'spam', 'spam', 'spam', 'spam', 'legit', 'spam', 'legit', 'legit', 'legit', 'legit', 'legit', 'spam', 'legit', 'spam', 'spam', 'legit', 'legit', 'legit', 'spam', 'spam', 'spam', 'spam', 'legit', 'legit', 'legit', 'spam', 'legit', 'spam', 'legit', 'legit', 'legit', 'legit', 'legit', 'legit', 'spam', 'spam', 'legit', 'legit', 'legit', 'spam', 'spam', 'legit', 'legit', 'spam', 'legit', 'spam', 'legit', 'legit', 'spam', 'spam', 'legit', 'spam', 'legit', 'legit', 'legit', 'legit', 'spam', 'legit', 'spam', 'legit', 'legit', 'spam', 'legit', 'legit', 'spam', 'legit', 'spam', 'spam', 'legit', 'spam', 'spam', 'legit', 'spam', 'legit', 'legit', 'legit', 'spam', 'spam', 'legit', 'spam', 'legit', 'legit', 'legit', 'spam', 'spam', 'legit', 'legit', 'spam', 'legit', 'spam', 'spam', 'legit', 'legit', 'spam', 'spam', 'legit', 'spam', 'legit', 'spam', 'spam']\n"
     ]
    }
   ],
   "source": [
    "import os\n",
    "import numpy as np\n",
    "from scipy.sparse import csr_matrix\n",
    "from sklearn.naive_bayes import MultinomialNB\n",
    "from sklearn.model_selection import train_test_split\n",
    "from sklearn.metrics import confusion_matrix\n",
    "from sklearn import metrics\n",
    "import matplotlib.pyplot as plt\n",
    "from sklearn.metrics import roc_curve, auc\n",
    "\n",
    "def convert_to_sparse_matrix(docs):\n",
    "    indptr = [0]\n",
    "    indices = []\n",
    "    data = []\n",
    "    vocabulary = {}\n",
    "    for d in docs:\n",
    "        for term in d:\n",
    "            index = vocabulary.setdefault(term, len(vocabulary))\n",
    "            indices.append(index)\n",
    "            data.append(1)\n",
    "        indptr.append(len(indices))\n",
    "    return csr_matrix((data, indices, indptr), dtype=int)\n",
    "\n",
    "\n",
    "data_dir = 'messages'\n",
    "messages = []\n",
    "y = []\n",
    "for filename in os.listdir(data_dir):\n",
    "    with open(os.path.join(data_dir, filename)) as file:\n",
    "        subject = file.readline()\n",
    "        skip = file.readline()\n",
    "        content = file.readline()\n",
    "        messages.append(content.split())\n",
    "    if \"legit\" in filename:\n",
    "        y.append(\"legit\")\n",
    "    else:\n",
    "        y.append(\"spam\")\n",
    "\n",
    "X = convert_to_sparse_matrix(messages)\n",
    "X_train, X_test, y_train, y_test = train_test_split(X, y, test_size=0.33, random_state=42)\n",
    "\n",
    "\n",
    "print(X_train, X_test, y_train, y_test)"
   ]
  },
  {
   "cell_type": "markdown",
   "metadata": {},
   "source": [
    "# Naive bayes"
   ]
  },
  {
   "cell_type": "code",
   "execution_count": 6,
   "metadata": {},
   "outputs": [],
   "source": [
    "def get_class(spam_prob, threshold=0.5):\n",
    "    if spam_prob < threshold:\n",
    "        return \"legit\"\n",
    "    else:\n",
    "        return \"spam\""
   ]
  },
  {
   "cell_type": "code",
   "execution_count": 7,
   "metadata": {},
   "outputs": [
    {
     "data": {
      "text/plain": [
       "MultinomialNB()"
      ]
     },
     "execution_count": 7,
     "metadata": {},
     "output_type": "execute_result"
    }
   ],
   "source": [
    "clf = MultinomialNB()\n",
    "clf.fit(X_train, y_train)"
   ]
  },
  {
   "cell_type": "code",
   "execution_count": 8,
   "metadata": {},
   "outputs": [
    {
     "data": {
      "text/plain": [
       "0.9583333333333334"
      ]
     },
     "execution_count": 8,
     "metadata": {},
     "output_type": "execute_result"
    }
   ],
   "source": [
    "clf.score(X_test, y_test)"
   ]
  },
  {
   "cell_type": "code",
   "execution_count": 9,
   "metadata": {},
   "outputs": [],
   "source": [
    "pred_prob = clf.predict_proba(X_test)"
   ]
  },
  {
   "cell_type": "code",
   "execution_count": 10,
   "metadata": {},
   "outputs": [],
   "source": [
    "pred_classes = pd.Series(pred_prob[:,  1]).apply(get_class)"
   ]
  },
  {
   "cell_type": "code",
   "execution_count": 11,
   "metadata": {},
   "outputs": [
    {
     "data": {
      "text/plain": [
       "9"
      ]
     },
     "execution_count": 11,
     "metadata": {},
     "output_type": "execute_result"
    }
   ],
   "source": [
    "confusion_matrix(y_test, pred_classes)[0,1]"
   ]
  },
  {
   "cell_type": "code",
   "execution_count": 12,
   "metadata": {},
   "outputs": [],
   "source": [
    "thresholds = np.arange(0, 1, 0.01)"
   ]
  },
  {
   "cell_type": "code",
   "execution_count": 13,
   "metadata": {},
   "outputs": [],
   "source": [
    "min_error = [1000]\n",
    "thres = []\n",
    "for i in thresholds:\n",
    "    def get_class(spam_prob, threshold=i):\n",
    "        if spam_prob < threshold:\n",
    "            return \"legit\"\n",
    "        else:\n",
    "            return \"spam\"\n",
    "    \n",
    "    pred_classes = pd.Series(pred_prob[:,  1]).apply(get_class)\n",
    "    if confusion_matrix(y_test, pred_classes)[0,1] < min_error[-1]:\n",
    "        min_error.append(confusion_matrix(y_test, pred_classes)[0,1])\n",
    "        thres.append(i)"
   ]
  },
  {
   "cell_type": "code",
   "execution_count": 14,
   "metadata": {},
   "outputs": [
    {
     "data": {
      "text/plain": [
       "[1000, 199, 14, 13, 12, 11, 10, 9, 8]"
      ]
     },
     "execution_count": 14,
     "metadata": {},
     "output_type": "execute_result"
    }
   ],
   "source": [
    "min_error"
   ]
  },
  {
   "cell_type": "code",
   "execution_count": 15,
   "metadata": {},
   "outputs": [
    {
     "data": {
      "text/plain": [
       "[0.0, 0.01, 0.06, 0.09, 0.12, 0.21, 0.37, 0.79]"
      ]
     },
     "execution_count": 15,
     "metadata": {},
     "output_type": "execute_result"
    }
   ],
   "source": [
    "thres"
   ]
  },
  {
   "cell_type": "code",
   "execution_count": 17,
   "metadata": {},
   "outputs": [
    {
     "data": {
      "text/plain": [
       "array([[191,   8],\n",
       "       [  7, 154]])"
      ]
     },
     "execution_count": 17,
     "metadata": {},
     "output_type": "execute_result"
    }
   ],
   "source": [
    "confusion_matrix(y_test, pred_classes)"
   ]
  },
  {
   "cell_type": "code",
   "execution_count": null,
   "metadata": {},
   "outputs": [],
   "source": []
  }
 ],
 "metadata": {
  "kernelspec": {
   "display_name": "Python 3",
   "language": "python",
   "name": "python3"
  },
  "language_info": {
   "codemirror_mode": {
    "name": "ipython",
    "version": 3
   },
   "file_extension": ".py",
   "mimetype": "text/x-python",
   "name": "python",
   "nbconvert_exporter": "python",
   "pygments_lexer": "ipython3",
   "version": "3.8.3"
  }
 },
 "nbformat": 4,
 "nbformat_minor": 4
}
